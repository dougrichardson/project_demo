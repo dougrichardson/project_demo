{
 "cells": [
  {
   "cell_type": "markdown",
   "id": "85b2fe16-2bc2-460d-874d-93966dff662c",
   "metadata": {},
   "source": [
    "# Logistic smooth regression fit"
   ]
  },
  {
   "cell_type": "code",
   "execution_count": 1,
   "id": "e1ad50d6-5ca3-4145-b7d5-8e3e092edc4f",
   "metadata": {},
   "outputs": [],
   "source": [
    "import xarray as xr\n",
    "import pandas as pd\n",
    "import numpy as np\n",
    "from scipy.optimize import curve_fit\n",
    "\n",
    "import matplotlib.pyplot as plt"
   ]
  },
  {
   "cell_type": "code",
   "execution_count": 2,
   "id": "1748f7fc-b35c-4f56-912f-386134a8b875",
   "metadata": {},
   "outputs": [
    {
     "name": "stdout",
     "output_type": "stream",
     "text": [
      "/g/data/w42/dr6273/work/project_demo\n"
     ]
    }
   ],
   "source": [
    "%cd /g/data/w42/dr6273/work/project_demo"
   ]
  },
  {
   "cell_type": "code",
   "execution_count": 71,
   "id": "80641f6b-ca80-4f87-aac9-b7cab29646d7",
   "metadata": {},
   "outputs": [],
   "source": [
    "%matplotlib inline"
   ]
  },
  {
   "cell_type": "code",
   "execution_count": 3,
   "id": "42885647-92f9-4737-9a13-74a6bd316266",
   "metadata": {},
   "outputs": [],
   "source": [
    "FONTSIZE = 10\n",
    "plt_params = {\n",
    "    'font.size': FONTSIZE,\n",
    "    'legend.fontsize' : FONTSIZE - 1,\n",
    "}"
   ]
  },
  {
   "cell_type": "markdown",
   "id": "2506e453-a92b-4cac-9646-10f0989f38b1",
   "metadata": {},
   "source": [
    "### Load NSW demand data\n",
    "Data originally obtained from AEMO vie NEMOSIS python package."
   ]
  },
  {
   "cell_type": "code",
   "execution_count": 4,
   "id": "c0c08c0a-7441-4378-b10b-de0da553cfd6",
   "metadata": {},
   "outputs": [],
   "source": [
    "demand = pd.read_csv(\n",
    "    \"/g/data/w42/dr6273/work/projects/Aus_energy/data/energy_demand/daily_demand_20091201-20210130.csv\"\n",
    ")"
   ]
  },
  {
   "cell_type": "code",
   "execution_count": 5,
   "id": "c15b0583-fbce-425b-8c59-fa0f1f6d903d",
   "metadata": {},
   "outputs": [],
   "source": [
    "demand.index = pd.date_range(\"2009-12-01\", \"2021-01-30\")"
   ]
  },
  {
   "cell_type": "code",
   "execution_count": 90,
   "id": "9fb525d7-7afa-48ed-98f0-ca0290e82153",
   "metadata": {},
   "outputs": [],
   "source": [
    "q = demand[\"NSW\"]"
   ]
  },
  {
   "cell_type": "code",
   "execution_count": 91,
   "id": "f423c33f-d17f-4811-b091-83af58a7405c",
   "metadata": {},
   "outputs": [],
   "source": [
    "q = q.loc[slice(\"2010\", \"2020\")]"
   ]
  },
  {
   "cell_type": "code",
   "execution_count": 92,
   "id": "ebecaedd-3a5f-48fc-ad9c-72adc43e9a91",
   "metadata": {},
   "outputs": [
    {
     "data": {
      "text/plain": [
       "2010-01-01    187807.390\n",
       "2010-01-02    189870.310\n",
       "2010-01-03    182687.900\n",
       "2010-01-04    200653.775\n",
       "2010-01-05    214943.745\n",
       "                 ...    \n",
       "2020-12-27    163156.770\n",
       "2020-12-28    162005.010\n",
       "2020-12-29    164337.420\n",
       "2020-12-30    164464.285\n",
       "2020-12-31    160221.400\n",
       "Freq: D, Name: NSW, Length: 4018, dtype: float64"
      ]
     },
     "execution_count": 92,
     "metadata": {},
     "output_type": "execute_result"
    }
   ],
   "source": [
    "q"
   ]
  },
  {
   "cell_type": "markdown",
   "id": "0d6fc380-c614-4a64-84b0-064c29321e8a",
   "metadata": {},
   "source": [
    "### Sydney temperature"
   ]
  },
  {
   "cell_type": "code",
   "execution_count": 93,
   "id": "ee6cac38-c35a-4a6a-aa57-0ceeef1cddaa",
   "metadata": {},
   "outputs": [],
   "source": [
    "def preprocess(ds):\n",
    "    \"\"\"\n",
    "    Select grid cell.\n",
    "    \"\"\"\n",
    "    return ds.sel(longitude=151.2, latitude=-33.86, method=\"nearest\")"
   ]
  },
  {
   "cell_type": "code",
   "execution_count": 94,
   "id": "a6b260e1-1bf3-4b47-abce-722c4c89cf54",
   "metadata": {},
   "outputs": [],
   "source": [
    "da_list = []\n",
    "for year in range(2010, 2021):\n",
    "    da = xr.open_mfdataset(\n",
    "        \"/g/data/rt52/era5/single-levels/reanalysis/2t/\"+str(year)+\"/*.nc\",\n",
    "        preprocess=preprocess\n",
    "    )[\"t2m\"]\n",
    "    da_list.append(da.resample(time=\"1D\").mean())"
   ]
  },
  {
   "cell_type": "code",
   "execution_count": 95,
   "id": "1b142ed0-2c63-4070-ab5a-70e39af4ac4f",
   "metadata": {},
   "outputs": [],
   "source": [
    "t = xr.concat(da_list, dim=\"time\").compute()"
   ]
  },
  {
   "cell_type": "code",
   "execution_count": 96,
   "id": "11142718-8ff1-44b7-a071-c75025829d3d",
   "metadata": {},
   "outputs": [],
   "source": [
    "t = t - 273.15"
   ]
  },
  {
   "cell_type": "markdown",
   "id": "c05d45d4-5356-4689-9d9d-bec16618c034",
   "metadata": {},
   "source": [
    "### Fit model"
   ]
  },
  {
   "cell_type": "code",
   "execution_count": 97,
   "id": "e742bfdd-db9b-41c9-9f6b-27492bb63a7a",
   "metadata": {},
   "outputs": [],
   "source": [
    "def lstr(x, a1, a2, b1, b2, z, c):\n",
    "    \"\"\"\n",
    "    Logistic smooth transition equation\n",
    "    \"\"\"\n",
    "    F = 1 / (1 + np.exp(-z * (x - c)))\n",
    "    term1 = (a1 + b1 * x) * (1 - F)\n",
    "    term2 = (a2 + b2 * x) * F\n",
    "    return term1 + term2"
   ]
  },
  {
   "cell_type": "code",
   "execution_count": 98,
   "id": "e6c89910-6eed-4fd4-acf6-f04fc4f868f9",
   "metadata": {},
   "outputs": [],
   "source": [
    "def fit_model(model, x, y, inits):\n",
    "    \"\"\"\n",
    "    Fit logistic smooth transition regression to data.\n",
    "    \"\"\"\n",
    "    x = x.values\n",
    "    y = y.values\n",
    "    \n",
    "    x = x[~np.isnan(x)]\n",
    "    y = y[~np.isnan(y)]\n",
    "    \n",
    "    params, _ = curve_fit(model, x, y, p0=inits, maxfev=25000)\n",
    "    return params"
   ]
  },
  {
   "cell_type": "code",
   "execution_count": 99,
   "id": "25ab35af-5138-4d83-8014-315fbd883cae",
   "metadata": {},
   "outputs": [],
   "source": [
    "# Initial parameter coefficients\n",
    "inits = [-6e6, -4e3, 2e3, 2e1, 0.2, 0]"
   ]
  },
  {
   "cell_type": "code",
   "execution_count": 100,
   "id": "92958115-8c82-4c45-9042-afee0a09cf78",
   "metadata": {},
   "outputs": [],
   "source": [
    "# Fit the model\n",
    "a1, a2, b1, b2, z, c = fit_model(lstr, t, q/1000, inits=inits)"
   ]
  },
  {
   "cell_type": "code",
   "execution_count": 104,
   "id": "384b7726-de50-4b65-9978-f35f4a254cd8",
   "metadata": {},
   "outputs": [],
   "source": [
    "# Get predictions\n",
    "x_line = np.arange(11, 29, 1)\n",
    "y_line = lstr(x_line, a1, a2, b1, b2, z, c)"
   ]
  },
  {
   "cell_type": "markdown",
   "id": "2b92b6fd-d4ea-4fe0-b58e-13011f79846b",
   "metadata": {},
   "source": [
    "### Plot"
   ]
  },
  {
   "cell_type": "code",
   "execution_count": 139,
   "id": "a44f0403-f711-4300-a870-2b2f0e96b3cb",
   "metadata": {},
   "outputs": [],
   "source": [
    "def plot_fit(ax, x_scatter, y_scatter, x_fit, y_fit, title):\n",
    "    \"\"\"\n",
    "    Scatter plot of demand vs temperature with model fit line\n",
    "    \"\"\"\n",
    "    ax.scatter(x_scatter, y_scatter, alpha=0.1, s=10)\n",
    "    ax.plot(x_fit, y_fit, c=\"k\")\n",
    "    ax.set_xlabel(r\"Sydney temperature [$^{\\circ}$C]\")\n",
    "    ax.set_ylabel(r\"Demand [GWh day$^{-1}$]\")\n",
    "    ax.set_title(title)"
   ]
  },
  {
   "cell_type": "code",
   "execution_count": 143,
   "id": "8c26ec66-772d-449e-a29b-4b398dea54c5",
   "metadata": {},
   "outputs": [
    {
     "data": {
      "image/png": "[encoded data removed]",
      "text/plain": [
       "<Figure size 250x170 with 1 Axes>"
      ]
     },
     "metadata": {},
     "output_type": "display_data"
    }
   ],
   "source": [
    "with plt.rc_context(plt_params):\n",
    "    fig, ax = plt.subplots(figsize=(2.5, 1.7))\n",
    "    plot_fit(ax, t, q/1000, x_line, y_line, \"\")\n",
    "    plt.savefig(\"./figures/demand.pdf\", format=\"pdf\", dpi=400, bbox_inches=\"tight\")"
   ]
  },
  {
   "cell_type": "code",
   "execution_count": null,
   "id": "49d9ffd8-e0ef-4afe-aa65-da45a889f297",
   "metadata": {},
   "outputs": [],
   "source": []
  }
 ],
 "metadata": {
  "kernelspec": {
   "display_name": "Python (pangeo)",
   "language": "python",
   "name": "pangeo"
  },
  "language_info": {
   "codemirror_mode": {
    "name": "ipython",
    "version": 3
   },
   "file_extension": ".py",
   "mimetype": "text/x-python",
   "name": "python",
   "nbconvert_exporter": "python",
   "pygments_lexer": "ipython3",
   "version": "3.10.8"
  }
 },
 "nbformat": 4,
 "nbformat_minor": 5
}
