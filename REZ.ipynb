{
 "cells": [
  {
   "cell_type": "markdown",
   "id": "c2bed534-f9aa-4cb0-84ab-698f8f8106fc",
   "metadata": {},
   "source": [
    "# Figure of Renewable Energy Zones"
   ]
  },
  {
   "cell_type": "code",
   "execution_count": 11,
   "id": "b6e7db70-d74f-4e4b-92aa-457143087f94",
   "metadata": {},
   "outputs": [],
   "source": [
    "import warnings\n",
    "\n",
    "import numpy as np\n",
    "import geopandas\n",
    "\n",
    "%matplotlib inline\n",
    "import matplotlib\n",
    "import matplotlib.pyplot as plt\n",
    "from matplotlib.lines import Line2D\n",
    "\n",
    "import cartopy.crs as ccrs\n",
    "import cartopy\n",
    "cartopy.config['pre_existing_data_dir'] = '/g/data/w42/dr6273/work/data/cartopy-data/'\n",
    "cartopy.config['data_dir'] = '/g/data/w42/dr6273/work/data/cartopy-data/'\n",
    "from cartopy.mpl.ticker import LongitudeFormatter, LatitudeFormatter"
   ]
  },
  {
   "cell_type": "code",
   "execution_count": 2,
   "id": "884bf653-489e-4aed-bcb0-99cce64a605b",
   "metadata": {},
   "outputs": [
    {
     "name": "stdout",
     "output_type": "stream",
     "text": [
      "/g/data/w42/dr6273/work/project_demo\n"
     ]
    }
   ],
   "source": [
    "%cd /g/data/w42/dr6273/work/project_demo"
   ]
  },
  {
   "cell_type": "code",
   "execution_count": 3,
   "id": "97e38873-618f-4c00-a40d-3c100d819621",
   "metadata": {},
   "outputs": [],
   "source": [
    "%matplotlib inline"
   ]
  },
  {
   "cell_type": "code",
   "execution_count": 29,
   "id": "d78e30c4-6a8d-4d56-8e88-b48dee3df373",
   "metadata": {},
   "outputs": [],
   "source": [
    "FONTSIZE = 8\n",
    "plt_params = {\n",
    "    'font.size': FONTSIZE,\n",
    "    'legend.fontsize' : FONTSIZE - 1,\n",
    "}"
   ]
  },
  {
   "cell_type": "markdown",
   "id": "e40d3542-3663-4051-998a-6caf3fceac0f",
   "metadata": {},
   "source": [
    "# Load REZ and city shapefiles"
   ]
  },
  {
   "cell_type": "code",
   "execution_count": 5,
   "id": "d60dd432-9ed3-4bcf-abf5-7dd5596fe384",
   "metadata": {},
   "outputs": [],
   "source": [
    "rez_file = '/g/data/w42/dr6273/work/data/REZ_boundaries_2021/Indicative_REZ_boundaries_2021_-_GIS_data-polygon.shp'\n",
    "rez_gpd = geopandas.read_file(rez_file)"
   ]
  },
  {
   "cell_type": "markdown",
   "id": "214095ca-65ae-4535-a569-db544539fc98",
   "metadata": {},
   "source": [
    "Add central coords of REZ regions"
   ]
  },
  {
   "cell_type": "code",
   "execution_count": 6,
   "id": "75fca323-dfa3-4b50-802e-5f7076b93e29",
   "metadata": {},
   "outputs": [],
   "source": [
    "rez_gpd['coords'] = rez_gpd['geometry'].apply(lambda x: x.representative_point().coords[:])\n",
    "rez_gpd['coords'] = [coords[0] for coords in rez_gpd['coords']]"
   ]
  },
  {
   "cell_type": "markdown",
   "id": "4e518780-706c-4207-aa5a-f6e835366d5e",
   "metadata": {},
   "source": [
    "Add column of energy type codes"
   ]
  },
  {
   "cell_type": "code",
   "execution_count": 8,
   "id": "aa6fb003-9e7e-4569-9d0f-d7344d36e4d5",
   "metadata": {},
   "outputs": [],
   "source": [
    "region_codes = [\n",
    "    3, 7, 3, 3, 2, 2, 4, 4,     # NSW\n",
    "    1, 1, 1, 1,                 # Offshore wind\n",
    "    5, 7, 6, 7, 3, 7, 6, 3, 7,  # QLD\n",
    "    1, 3, 1, 1, 4, 3, 2, 3, 3,  # SA\n",
    "    3, 7, 7,                    # TAS\n",
    "    6, 3, 1, 1, 3, 2            # VIC\n",
    "]"
   ]
  },
  {
   "cell_type": "code",
   "execution_count": 9,
   "id": "ac07293e-71f6-465c-b37d-e9d9e2279194",
   "metadata": {},
   "outputs": [],
   "source": [
    "rez_gpd['energy_code'] = 0"
   ]
  },
  {
   "cell_type": "code",
   "execution_count": 12,
   "id": "7b563ec0-66c1-49c6-bc5b-7b83cf882bc7",
   "metadata": {},
   "outputs": [],
   "source": [
    "with warnings.catch_warnings():\n",
    "    warnings.simplefilter('ignore')\n",
    "    \n",
    "    rez_gpd['energy_code'].iloc[9:17] = region_codes[:8]\n",
    "    rez_gpd['energy_code'].iloc[[33, 34, 37, 38]] = region_codes[8:12]\n",
    "    rez_gpd['energy_code'].iloc[:9] = region_codes[12:21]\n",
    "    rez_gpd['energy_code'].iloc[23:32] = region_codes[21:30]\n",
    "    rez_gpd['energy_code'].iloc[[32, 35, 36]] = region_codes[30:33]\n",
    "    rez_gpd['energy_code'].iloc[17:23] = region_codes[33:]"
   ]
  },
  {
   "cell_type": "code",
   "execution_count": 13,
   "id": "7d82fc55-9ffa-46c1-ad4f-26a6b220fb73",
   "metadata": {},
   "outputs": [],
   "source": [
    "gccsa_file = '/g/data/w42/dr6273/work/data/ABS/ABS_GCCSA_2021/GCCSA_2021_AUST_GDA2020.shp'\n",
    "gccsa_gpd = geopandas.read_file(gccsa_file)"
   ]
  },
  {
   "cell_type": "code",
   "execution_count": 14,
   "id": "85cfb5df-57bd-4fb4-b8c0-b9dce54e80a2",
   "metadata": {},
   "outputs": [],
   "source": [
    "gccsa_gpd = gccsa_gpd.loc[\n",
    "    (gccsa_gpd['GCC_NAME21'] == 'Greater Sydney') |\n",
    "    (gccsa_gpd['GCC_NAME21'] == 'Greater Melbourne') |\n",
    "    (gccsa_gpd['GCC_NAME21'] == 'Greater Brisbane') |\n",
    "    (gccsa_gpd['GCC_NAME21'] == 'Greater Adelaide') |\n",
    "    (gccsa_gpd['GCC_NAME21'] == 'Australian Capital Territory') |\n",
    "    (gccsa_gpd['GCC_NAME21'] == 'Greater Hobart')\n",
    "]"
   ]
  },
  {
   "cell_type": "code",
   "execution_count": 53,
   "id": "8214a175-b5f4-4a1d-8726-25c471886a28",
   "metadata": {},
   "outputs": [],
   "source": [
    "def plot_REZ_GCCSA(ax):\n",
    "    \"\"\"\n",
    "    Plot REZ and GCCSA shape files with labels.\n",
    "    \"\"\"\n",
    "    ax.set_extent([132, 161.5, -9, -46])\n",
    "    ax.add_feature(\n",
    "        cartopy.feature.NaturalEarthFeature(\n",
    "            category='cultural',\n",
    "            name='admin_1_states_provinces',\n",
    "            scale='10m'\n",
    "        ),\n",
    "        facecolor='none',\n",
    "        edgecolor='k',\n",
    "        lw=.2,\n",
    "        rasterized=True\n",
    "    )\n",
    "    ax.coastlines(resolution=\"50m\", lw=0.5, rasterized=True)\n",
    "    \n",
    "    alpha=0.6\n",
    "    for i in range(len(rez_gpd)):\n",
    "        d = rez_gpd.iloc[i:i+1]\n",
    "        code = d.iloc[0]['energy_code']\n",
    "        if (code == 1) | (code == 5):\n",
    "            d.plot(ax=ax, alpha=alpha, color=\"tab:blue\", label='Wind', rasterized=True)\n",
    "        elif (code == 2) | (code == 6):\n",
    "            d.plot(ax=ax, alpha=alpha, color=\"tab:orange\", label='Solar', rasterized=True)\n",
    "        elif (code == 3) | (code == 7):\n",
    "            d.plot(ax=ax, alpha=alpha, color=\"tab:purple\", label='Wind and solar', rasterized=True)\n",
    "        elif code == 4:\n",
    "            pass\n",
    "        else:\n",
    "            raise ValueError('Incorrect code')\n",
    "                        \n",
    "    for idx, row in rez_gpd.iterrows():\n",
    "        code = row['energy_code']\n",
    "        label = row['Name'][:2]\n",
    "        \n",
    "        if label in ['O1', 'O2', 'Q1', 'Q3', 'Q6']:\n",
    "            x = row.coords[0] + 1\n",
    "            y = row.coords[1]\n",
    "        elif label == 'O3':\n",
    "            x = row.coords[0] + 1\n",
    "            y = row.coords[1] - 0.5\n",
    "        elif label == 'O4':\n",
    "            x = row.coords[0]\n",
    "            y = row.coords[1] + 0.5\n",
    "        else:\n",
    "            x = row.coords[0]\n",
    "            y = row.coords[1]\n",
    "\n",
    "    gccsa_gpd.plot(ax=ax, edgecolor=\"tab:red\", facecolor=\"tab:red\", alpha=alpha, rasterized=True)\n",
    "    \n",
    "    ax.text(138.5, -24.5, 'QLD')\n",
    "    ax.text(141.5, -30.5, 'NSW')\n",
    "    ax.text(132.5, -27.5, 'SA')\n",
    "    ax.text(137.5, -40.5, 'VIC')\n",
    "    ax.text(142, -44.5, 'TAS')\n",
    "    ax.text(153, -38, 'Offshore')\n",
    "    \n",
    "    ax.text(154, -28, 'Brisbane')\n",
    "    ax.text(154, -34, 'Sydney')\n",
    "    ax.text(135., -42, 'Melbourne')\n",
    "    ax.text(132.3, -38, 'Adelaide')\n",
    "    ax.text(153, -36, 'Canberra')\n",
    "    ax.text(148, -44, 'Hobart')\n",
    "    \n",
    "    ax.plot((151.7, 153.5), (-33.7, -33.7), c=\"tab:red\") # SYD\n",
    "    ax.plot((142.2, 144.5), (-40.9, -38.5), c=\"tab:red\") # MLB\n",
    "    ax.plot((141., 142), (-39.3, -38.5), c='k') # VIC\n",
    "    ax.plot((138.5, 138.5), (-37, -36), c=\"tab:red\") # ADL\n",
    "    ax.plot((149.5, 152.5), (-35.7, -35.7), c=\"tab:red\") # CBR\n",
    "    \n",
    "    # Offshore lines\n",
    "    ax.plot((152.5, 152), (-37.7, -33.8), c=\"tab:blue\", ls='--')\n",
    "    ax.plot((152.5, 151.4), (-37.7, -35), c=\"tab:blue\", ls='--')\n",
    "    ax.plot((152.5, 148.2), (-37.7, -38.5), c=\"tab:blue\", ls='--')\n",
    "    ax.plot((152.5, 145.9), (-37.7, -40.5), c=\"tab:blue\", ls='--')\n",
    "    \n",
    "    # Custom legend\n",
    "    legend_elements = [\n",
    "        Line2D([0], [0], marker='o', color='w', label='Solar',\n",
    "                markerfacecolor=\"tab:orange\", markersize=12, alpha=alpha),\n",
    "        Line2D([0], [0], marker='o', color='w', label='Wind',\n",
    "                markerfacecolor=\"tab:blue\", markersize=12, alpha=alpha),\n",
    "        Line2D([0], [0], marker='o', color='w', label='Solar and\\nwind',\n",
    "                markerfacecolor=\"tab:purple\", markersize=12, alpha=alpha)\n",
    "    ]\n",
    "    ax.legend(\n",
    "        frameon=False,\n",
    "        handles=legend_elements,\n",
    "        loc=(0.5, 0.7),\n",
    "        fontsize=plt_params['font.size'],\n",
    "        labelspacing=.8\n",
    "    )"
   ]
  },
  {
   "cell_type": "code",
   "execution_count": 54,
   "id": "5c6641ec-fdf9-4c9d-8ae9-b617ef62a075",
   "metadata": {},
   "outputs": [
    {
     "data": {
      "image/png": "[encoded data removed]",
      "text/plain": [
       "<Figure size 250x500 with 1 Axes>"
      ]
     },
     "metadata": {},
     "output_type": "display_data"
    }
   ],
   "source": [
    "with plt.rc_context(plt_params):\n",
    "    fig, ax = plt.subplots(1, 1, subplot_kw={'projection': ccrs.PlateCarree()}, figsize=(2.5, 5))\n",
    "    plot_REZ_GCCSA(ax)\n",
    "    plt.savefig(\"./figures/REZ.pdf\", format=\"pdf\", dpi=400, bbox_inches=\"tight\")"
   ]
  },
  {
   "cell_type": "code",
   "execution_count": null,
   "id": "3e4640a4-11b6-453c-bd8f-85bc7242fb75",
   "metadata": {},
   "outputs": [],
   "source": []
  }
 ],
 "metadata": {
  "kernelspec": {
   "display_name": "Python (pangeo)",
   "language": "python",
   "name": "pangeo"
  },
  "language_info": {
   "codemirror_mode": {
    "name": "ipython",
    "version": 3
   },
   "file_extension": ".py",
   "mimetype": "text/x-python",
   "name": "python",
   "nbconvert_exporter": "python",
   "pygments_lexer": "ipython3",
   "version": "3.10.8"
  }
 },
 "nbformat": 4,
 "nbformat_minor": 5
}
